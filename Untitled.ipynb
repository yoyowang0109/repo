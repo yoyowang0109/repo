{
 "cells": [
  {
   "cell_type": "code",
   "execution_count": 5,
   "metadata": {},
   "outputs": [
    {
     "data": {
      "text/plain": [
       "93326215443944152681699238856266700490715968264381621468592963895217599993229915608941463976156518286253697920827223758251185210916864000000000000000000000000"
      ]
     },
     "execution_count": 5,
     "metadata": {},
     "output_type": "execute_result"
    }
   ],
   "source": [
    "p = 2**255-19\n",
    "p\n",
    "factor = 1\n",
    "count = 1\n",
    "while (count <= 100):\n",
    "    factor = factor * count\n",
    "    count += 1\n",
    "factor"
   ]
  },
  {
   "cell_type": "code",
   "execution_count": 7,
   "metadata": {},
   "outputs": [
    {
     "name": "stdout",
     "output_type": "stream",
     "text": [
      "The ratio =  1.1954406247375462\n",
      "The ratio =  0.9428400525851817\n",
      "The ratio =  0.7339124756793396\n",
      "The ratio =  0.580405221848552\n",
      "The ratio =  0.46875\n",
      "The ratio =  0.38670034276814236\n",
      "The ratio =  0.3255199313165683\n",
      "The ratio =  0.2792342522626282\n",
      "The ratio =  0.24376371420616474\n",
      "The ratio =  0.2162933349609375\n",
      "The ratio =  0.1948534964218523\n",
      "The ratio =  0.1780463713017439\n",
      "The ratio =  0.164866943932101\n",
      "The ratio =  0.1545846966863631\n",
      "The ratio =  0.1466643826624657\n",
      "The ratio =  0.1407122742318393\n",
      "The ratio =  0.13643926189942987\n",
      "The ratio =  0.13363528188920745\n",
      "The ratio =  0.13215149618135605\n",
      "The ratio =  0.13188788213547298\n",
      "The ratio =  0.13278468223640646\n",
      "The ratio =  0.13481668339003297\n",
      "The ratio =  0.13798964109788\n",
      "The ratio =  0.14233839979077265\n",
      "The ratio =  0.14792642634707437\n",
      "The ratio =  0.15484659489424854\n",
      "The ratio =  0.16322315419834624\n",
      "The ratio =  0.17321488571593863\n",
      "The ratio =  0.18501952886760173\n",
      "The ratio =  0.19887961649990776\n",
      "The ratio =  0.2150899329929965\n",
      "The ratio =  0.23400688478147597\n",
      "The ratio =  0.2560601629888154\n",
      "The ratio =  0.28176718570950643\n",
      "The ratio =  0.31175093936756704\n",
      "The ratio =  0.346762002003199\n",
      "The ratio =  0.38770573556931276\n",
      "The ratio =  0.4356758910517355\n",
      "The ratio =  0.49199619434141106\n",
      "The ratio =  0.5582718913254039\n",
      "The ratio =  0.6364537520952142\n",
      "The ratio =  0.7289176980346366\n",
      "The ratio =  0.8385640625958876\n",
      "The ratio =  0.9689415795744255\n",
      "The ratio =  1.1244025801153081\n",
      "The ratio =  1.3102976605297192\n",
      "The ratio =  1.5332203731715162\n",
      "The ratio =  1.8013154433127074\n",
      "The ratio =  2.1246678237568304\n",
      "The ratio =  2.515794824483814\n",
      "The ratio =  2.9902699361145415\n",
      "The ratio =  3.5675152489320148\n",
      "The ratio =  4.271810139816412\n",
      "The ratio =  5.1335779303838205\n",
      "The ratio =  6.191030530911708\n",
      "The ratio =  7.49227502530105\n",
      "The ratio =  9.0980175093181\n",
      "The ratio =  11.08504063880346\n",
      "The ratio =  13.550685427886728\n",
      "The ratio =  16.618639054985216\n",
      "The ratio =  20.446424381292054\n",
      "The ratio =  25.235111035405698\n",
      "The ratio =  31.2419322666553\n",
      "The ratio =  38.796709716548484\n",
      "The ratio =  48.32327778607617\n",
      "The ratio =  60.36748456429693\n",
      "The ratio =  75.63385988856345\n",
      "The ratio =  95.03372694250474\n",
      "The ratio =  119.74845118892877\n",
      "The ratio =  151.31274965226095\n",
      "The ratio =  191.7246333967894\n",
      "The ratio =  243.5907741589941\n",
      "The ratio =  310.3190732414972\n",
      "The ratio =  396.3742403253386\n",
      "The ratio =  507.61763461300933\n",
      "The ratio =  651.7599898991155\n",
      "The ratio =  838.9656354017136\n",
      "The ratio =  1082.6603899416182\n",
      "The ratio =  1400.613758078301\n",
      "The ratio =  1816.391193116782\n",
      "The ratio =  2361.3064910724515\n",
      "The ratio =  3077.051257048197\n",
      "The ratio =  4019.242556168278\n",
      "The ratio =  5262.217844543728\n",
      "The ratio =  6905.5270990816\n",
      "The ratio =  9082.73824704587\n",
      "The ratio =  11973.400923357358\n",
      "The ratio =  15819.329437315655\n",
      "The ratio =  20946.802293022476\n",
      "The ratio =  27796.87966334435\n",
      "The ratio =  36966.87749939209\n",
      "The ratio =  49267.199284754846\n",
      "The ratio =  65799.34245006742\n",
      "The ratio =  88063.14661728173\n",
      "The ratio =  118104.48869456875\n",
      "The ratio =  158719.0121217916\n",
      "The ratio =  213733.60687817782\n",
      "The ratio =  288395.94232967624\n",
      "The ratio =  389914.3985049778\n",
      "The ratio =  528207.6604386247\n",
      "The ratio =  716947.0430719254\n",
      "The ratio =  975008.1500122494\n",
      "The ratio =  1328495.7858791628\n",
      "The ratio =  1813572.8971558425\n",
      "The ratio =  2480418.9129270185\n",
      "The ratio =  3398776.8948992584\n",
      "The ratio =  4665739.097570064\n",
      "The ratio =  6416690.786326095\n",
      "The ratio =  8840716.694470545\n",
      "The ratio =  12202322.407470308\n",
      "The ratio =  16872104.72947533\n",
      "The ratio =  23370122.05580791\n",
      "The ratio =  32427313.842981547\n",
      "The ratio =  45072607.74733754\n",
      "The ratio =  62756637.45158296\n",
      "The ratio =  87527712.31960304\n",
      "The ratio =  122282466.64139213\n",
      "The ratio =  171123391.14410353\n",
      "The ratio =  239869547.0073906\n",
      "The ratio =  336787121.0255155\n",
      "The ratio =  473635918.61377054\n",
      "The ratio =  667170513.6810951\n",
      "The ratio =  941296565.3300881\n",
      "The ratio =  1330172506.541249\n",
      "The ratio =  1882677176.8889263\n",
      "The ratio =  2668853692.7235384\n",
      "The ratio =  3789216296.107812\n",
      "The ratio =  5388210248.869316\n",
      "The ratio =  7673704006.55938\n",
      "The ratio =  10945254620.993755\n",
      "The ratio =  15635149215.339672\n",
      "The ratio =  22368075570.065067\n",
      "The ratio =  32047990937.19745\n",
      "The ratio =  45984750248.76546\n",
      "The ratio =  66078929437.250565\n",
      "The ratio =  95091934775.5262\n",
      "The ratio =  137041256430.99544\n",
      "The ratio =  197779579935.4931\n",
      "The ratio =  285844349269.1063\n",
      "The ratio =  413705647635.34863\n",
      "The ratio =  599601431656.7944\n",
      "The ratio =  870239919976.3861\n",
      "The ratio =  1264783773864.3523\n",
      "The ratio =  1840731246086.5798\n",
      "The ratio =  2682608072969.7876\n",
      "The ratio =  3914829002147.593\n",
      "The ratio =  5720752136033.705\n",
      "The ratio =  8370941769071.155\n",
      "The ratio =  12265139940075.666\n",
      "The ratio =  17994669940871.57\n"
     ]
    }
   ],
   "source": [
    "i = 1\n",
    "factor = 1\n",
    "while (i <= 150):\n",
    "    print('The ratio = ', factor/(0.8*i)**(0.8*i))\n",
    "    i += 1\n",
    "    factor *= i\n"
   ]
  },
  {
   "cell_type": "code",
   "execution_count": 1,
   "metadata": {
    "scrolled": true
   },
   "outputs": [
    {
     "name": "stdout",
     "output_type": "stream",
     "text": [
      "9.859719512536903e-09\n",
      "8.726646259971647e-09\n"
     ]
    }
   ],
   "source": [
    "import numpy as np\n",
    "print((1 - np.cos(np.deg2rad(10**-6/1.55)))/np.sin(np.deg2rad(10**-6/1.55)))\n",
    "print((2 * np.sin((np.deg2rad(10**-6 / 2))) ** 2) / np.sin((np.deg2rad(10**-6))))\n",
    "#print(2 * np.sin(np.pi / 180 * 10**-8 / 2) ** 2 / (np.sin(np.pi / 180 * 10**-8)) ** 2)"
   ]
  },
  {
   "cell_type": "code",
   "execution_count": 5,
   "metadata": {},
   "outputs": [
    {
     "name": "stdout",
     "output_type": "stream",
     "text": [
      "b =  -1000000.000001\n",
      "-1.9999847711312202\n"
     ]
    }
   ],
   "source": [
    "b = -(10 ** 6 + 10 ** (-6))\n",
    "print('b = ', b)\n",
    "print(4 / (np.sqrt(b ** 2 - 4) * (np.sqrt(b ** 2 - 4) + b)))"
   ]
  },
  {
   "cell_type": "code",
   "execution_count": null,
   "metadata": {},
   "outputs": [],
   "source": []
  }
 ],
 "metadata": {
  "kernelspec": {
   "display_name": "Python 3",
   "language": "python",
   "name": "python3"
  },
  "language_info": {
   "codemirror_mode": {
    "name": "ipython",
    "version": 3
   },
   "file_extension": ".py",
   "mimetype": "text/x-python",
   "name": "python",
   "nbconvert_exporter": "python",
   "pygments_lexer": "ipython3",
   "version": "3.7.3"
  }
 },
 "nbformat": 4,
 "nbformat_minor": 2
}
